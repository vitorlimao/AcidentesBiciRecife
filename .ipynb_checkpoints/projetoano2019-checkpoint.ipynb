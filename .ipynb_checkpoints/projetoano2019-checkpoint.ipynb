{
 "cells": [
  {
   "cell_type": "code",
   "execution_count": 3,
   "metadata": {},
   "outputs": [],
   "source": [
    "import pandas as pd\n",
    "\n",
    "import matplotlib.pyplot as plt"
   ]
  },
  {
   "cell_type": "code",
   "execution_count": 4,
   "metadata": {},
   "outputs": [],
   "source": [
    "df2020 =  pd.read_csv (\"acidentes_2020.csv\",sep=';',parse_dates=['data'],dayfirst = True)\n",
    "df2019 = pd.read_csv (\"acidentes-2019.csv\",sep=';',parse_dates=['DATA'],dayfirst = True)\n",
    "df2018 = pd.read_csv (\"acidentes_2018.csv\",sep=';',parse_dates=['DATA'],dayfirst = True)\n",
    "df2017 = pd.read_csv (\"acidentes_2017.csv\",sep=';',parse_dates=['data'],dayfirst = True)\n",
    "df2016 = pd.read_csv (\"acidentes_2016.csv\",sep=';',parse_dates=['data'],dayfirst = True)\n",
    "df2015 = pd.read_csv (\"acidentes_2015.csv\",sep=';',parse_dates=['data'],dayfirst = True)"
   ]
  },
  {
   "cell_type": "code",
   "execution_count": 5,
   "metadata": {},
   "outputs": [],
   "source": [
    "df2018.rename(columns={'DATA':'data'},inplace=True)\n",
    "df2019.rename(columns={'DATA':'data'},inplace=True)"
   ]
  },
  {
   "cell_type": "code",
   "execution_count": 6,
   "metadata": {},
   "outputs": [],
   "source": [
    "df = pd.concat([df2015, df2016,df2017,df2018,df2019,df2020], ignore_index=True, sort=False)"
   ]
  },
  {
   "cell_type": "code",
   "execution_count": 7,
   "metadata": {},
   "outputs": [
    {
     "data": {
      "text/plain": [
       "tipo                                 object\n",
       "situacao                             object\n",
       "data                         datetime64[ns]\n",
       "hora                                 object\n",
       "bairro                               object\n",
       "endereco                             object\n",
       "numero                               object\n",
       "complemento                          object\n",
       "natureza                             object\n",
       "descricao                            object\n",
       "auto                                float64\n",
       "moto                                float64\n",
       "ciclom                              float64\n",
       "ciclista                            float64\n",
       "pedestre                            float64\n",
       "onibus                              float64\n",
       "caminhao                            float64\n",
       "viatura                             float64\n",
       "outros                              float64\n",
       "vitimas                             float64\n",
       "natureza_acidente                    object\n",
       "detalhe_endereco_acidente            object\n",
       "endereco_cruzamento                  object\n",
       "numero_cruzamento                    object\n",
       "referencia_cruzamento                object\n",
       "bairro_cruzamento                    object\n",
       "vitimasfatais                       float64\n",
       "num_semaforo                        float64\n",
       "sentido_via                          object\n",
       "acidente_verificado                  object\n",
       "tempo_clima                          object\n",
       "situacao_semaforo                    object\n",
       "sinalizacao                          object\n",
       "condicao_via                         object\n",
       "conservacao_via                      object\n",
       "ponto_controle                       object\n",
       "situacao_placa                       object\n",
       "velocidade_max_via                   object\n",
       "mao_direcao                          object\n",
       "divisao_via1                         object\n",
       "divisao_via2                         object\n",
       "divisao_via3                         object\n",
       "dtype: object"
      ]
     },
     "execution_count": 7,
     "metadata": {},
     "output_type": "execute_result"
    }
   ],
   "source": [
    "df.dtypes"
   ]
  },
  {
   "cell_type": "code",
   "execution_count": 8,
   "metadata": {},
   "outputs": [],
   "source": [
    "df = df[['data','hora','bairro','endereco','descricao','vitimas','pedestre','ciclista','ciclom','moto','auto','caminhao','onibus','outros','viatura' ]]"
   ]
  },
  {
   "cell_type": "code",
   "execution_count": 9,
   "metadata": {
    "scrolled": true
   },
   "outputs": [
    {
     "data": {
      "text/plain": [
       "data         datetime64[ns]\n",
       "hora                 object\n",
       "bairro               object\n",
       "endereco             object\n",
       "descricao            object\n",
       "vitimas             float64\n",
       "pedestre            float64\n",
       "ciclista            float64\n",
       "ciclom              float64\n",
       "moto                float64\n",
       "auto                float64\n",
       "caminhao            float64\n",
       "onibus              float64\n",
       "outros              float64\n",
       "viatura             float64\n",
       "dtype: object"
      ]
     },
     "execution_count": 9,
     "metadata": {},
     "output_type": "execute_result"
    }
   ],
   "source": [
    "df.dtypes"
   ]
  },
  {
   "cell_type": "code",
   "execution_count": 10,
   "metadata": {},
   "outputs": [
    {
     "data": {
      "text/plain": [
       "count    843.000000\n",
       "mean       1.015421\n",
       "std        0.178405\n",
       "min        0.000000\n",
       "25%        1.000000\n",
       "50%        1.000000\n",
       "75%        1.000000\n",
       "max        5.000000\n",
       "Name: ciclista, dtype: float64"
      ]
     },
     "execution_count": 10,
     "metadata": {},
     "output_type": "execute_result"
    }
   ],
   "source": [
    "df.ciclista.describe()"
   ]
  },
  {
   "cell_type": "code",
   "execution_count": 11,
   "metadata": {},
   "outputs": [],
   "source": [
    "filtro = (df['ciclista'] == 5)\n",
    "df.ciclista.loc[filtro] = pd.NA"
   ]
  },
  {
   "cell_type": "code",
   "execution_count": 12,
   "metadata": {},
   "outputs": [
    {
     "name": "stderr",
     "output_type": "stream",
     "text": [
      "/home/vitor/.local/lib/python3.8/site-packages/pandas/core/indexing.py:670: SettingWithCopyWarning: \n",
      "A value is trying to be set on a copy of a slice from a DataFrame\n",
      "\n",
      "See the caveats in the documentation: https://pandas.pydata.org/pandas-docs/stable/user_guide/indexing.html#returning-a-view-versus-a-copy\n",
      "  iloc._setitem_with_indexer(indexer, value)\n"
     ]
    }
   ],
   "source": [
    "df.ciclista.loc[df['ciclista']==0] = pd.NA"
   ]
  },
  {
   "cell_type": "raw",
   "metadata": {},
   "source": [
    "df.drop(['divisao_via1','divisao_via2','divisao_via3','ponto_controle','numero','numero_cruzamento','situacao_semaforo','situacao_placa','acidente_verificado','referencia_cruzamento','bairro_cruzamento','num_semaforo'], axis=1)\n"
   ]
  },
  {
   "cell_type": "raw",
   "metadata": {},
   "source": [
    "Acidentes com ciclistas"
   ]
  },
  {
   "cell_type": "code",
   "execution_count": 13,
   "metadata": {},
   "outputs": [
    {
     "data": {
      "text/plain": [
       "1.0    831\n",
       "2.0     10\n",
       "Name: ciclista, dtype: int64"
      ]
     },
     "execution_count": 13,
     "metadata": {},
     "output_type": "execute_result"
    }
   ],
   "source": [
    "df.ciclista.value_counts()"
   ]
  },
  {
   "cell_type": "code",
   "execution_count": 14,
   "metadata": {},
   "outputs": [],
   "source": [
    "filtro = (df['ciclista'] > 0) & (df['auto'] > 0)\n",
    "acidentes_carro_x_bike = df.loc[filtro].ciclista.count()"
   ]
  },
  {
   "cell_type": "code",
   "execution_count": 15,
   "metadata": {},
   "outputs": [],
   "source": [
    "filtro = (df['ciclista'] > 0) \n",
    "total_acidentes = df.loc[filtro].ciclista.count()"
   ]
  },
  {
   "cell_type": "code",
   "execution_count": 16,
   "metadata": {},
   "outputs": [],
   "source": [
    "filtro = (df['ciclista'] > 0) & (df['onibus'] > 0)\n",
    "acidentes_onibus_x_bike = df.groupby(['ciclista','onibus']).size().sum()\n"
   ]
  },
  {
   "cell_type": "code",
   "execution_count": 17,
   "metadata": {},
   "outputs": [],
   "source": [
    "filtro = (df['ciclista'] > 0) & (df['caminhao'] > 0)\n",
    "acidentes_caminhao_x_bike = df.groupby(['ciclista','caminhao']).size().sum()\n"
   ]
  },
  {
   "cell_type": "code",
   "execution_count": 18,
   "metadata": {},
   "outputs": [],
   "source": [
    "filtro = (df['ciclista'] > 0) & (df['pedestre'] > 0)\n",
    "acidentes_pedestre_x_bike = df.groupby(['ciclista','pedestre']).size().sum()\n"
   ]
  },
  {
   "cell_type": "markdown",
   "metadata": {},
   "source": [
    "<h3> Numeros de acidentes com ciclistas por tipo de veículo </h3> "
   ]
  },
  {
   "cell_type": "code",
   "execution_count": 19,
   "metadata": {
    "scrolled": true
   },
   "outputs": [
    {
     "name": "stdout",
     "output_type": "stream",
     "text": [
      "Total de acidentes :841, acidentes por tipo de veículo: carro: 484 ,caminhao: 137, onibus: 28, pedestre: 13. \n"
     ]
    }
   ],
   "source": [
    "print('Total de acidentes :{}, acidentes por tipo de veículo: carro: {} ,caminhao: {}, onibus: {}, pedestre: {}. '.format(total_acidentes,acidentes_carro_x_bike,acidentes_onibus_x_bike,acidentes_caminhao_x_bike,acidentes_pedestre_x_bike))"
   ]
  },
  {
   "cell_type": "code",
   "execution_count": 63,
   "metadata": {},
   "outputs": [],
   "source": [
    "df1=pd.DataFrame({\"veiculo\": ['carro','caminhao','onibus','pedestre'],\"acidentes\": [484,137,28,13]})"
   ]
  },
  {
   "cell_type": "code",
   "execution_count": 70,
   "metadata": {},
   "outputs": [
    {
     "data": {
      "image/png": "[encoded data removed]",
      "text/plain": [
       "<Figure size 432x288 with 1 Axes>"
      ]
     },
     "metadata": {
      "needs_background": "light"
     },
     "output_type": "display_data"
    }
   ],
   "source": [
    "df1.groupby(df1['veiculo']).acidentes.sum().sort_values(ascending=True).plot.bar(title='Acidentes por tipo de veiculo nos ultimos cinco anos');\n",
    "plt.ylabel(\"N° de acidentes\");\n",
    "plt.savefig('Acidentes com ciclistas em Recife por tipo de veiculo.png')"
   ]
  },
  {
   "cell_type": "markdown",
   "metadata": {},
   "source": [
    " <h3>Numeros de acidentes com ciclistas por ano </h3>"
   ]
  },
  {
   "cell_type": "code",
   "execution_count": 35,
   "metadata": {},
   "outputs": [
    {
     "data": {
      "image/png": "[encoded data removed]",
      "text/plain": [
       "<Figure size 432x288 with 1 Axes>"
      ]
     },
     "metadata": {
      "needs_background": "light"
     },
     "output_type": "display_data"
    }
   ],
   "source": [
    "df.groupby(df['data'].dt.year).ciclista.count().plot.bar(title='Acidentes com ciclistas em Recife por ano');\n",
    "plt.ylabel(\"N° de acidentes\");\n",
    "plt.xlabel(\"Ano\");\n",
    "plt.savefig('Acidentes com ciclistas em Recife por ano.png')"
   ]
  },
  {
   "cell_type": "markdown",
   "metadata": {},
   "source": [
    "<h3>Numeros de acidentes com ciclistas por endereco</h3>"
   ]
  },
  {
   "cell_type": "code",
   "execution_count": 20,
   "metadata": {},
   "outputs": [
    {
     "data": {
      "image/png": "[encoded data removed]",
      "text/plain": [
       "<Figure size 432x288 with 1 Axes>"
      ]
     },
     "metadata": {
      "needs_background": "light"
     },
     "output_type": "display_data"
    }
   ],
   "source": [
    "df.groupby(['endereco']).ciclista.count().sort_values(ascending=False).head(20).plot.bar(title='Acidentes com ciclistas em Recife por endereço de 2015 à 2020');\n",
    "plt.ylabel(\"N° de acidentes\");\n",
    "plt.xlabel(\"Endereço\");\n",
    "plt.savefig('Acidentes com ciclistas em Recife por endereço de 2015 à 2020.png')"
   ]
  },
  {
   "cell_type": "markdown",
   "metadata": {},
   "source": [
    "<h3> Percentual de acidentes </h3>"
   ]
  },
  {
   "cell_type": "code",
   "execution_count": 344,
   "metadata": {},
   "outputs": [],
   "source": [
    "dfpareto=df.groupby(['endereco','ciclista']).ciclista.count().sort_values(ascending=False).head(100).to_frame(name='acidentes').reset_index()\n",
    "\n"
   ]
  },
  {
   "cell_type": "code",
   "execution_count": 345,
   "metadata": {},
   "outputs": [],
   "source": [
    "dfpareto['%']=dfpareto['acidentes']/dfpareto['acidentes'].sum() * 100"
   ]
  },
  {
   "cell_type": "code",
   "execution_count": 346,
   "metadata": {},
   "outputs": [],
   "source": [
    "dfpareto['acumulado']=dfpareto['%'].cumsum()"
   ]
  },
  {
   "cell_type": "code",
   "execution_count": 347,
   "metadata": {},
   "outputs": [
    {
     "data": {
      "text/html": [
       "<div>\n",
       "<style scoped>\n",
       "    .dataframe tbody tr th:only-of-type {\n",
       "        vertical-align: middle;\n",
       "    }\n",
       "\n",
       "    .dataframe tbody tr th {\n",
       "        vertical-align: top;\n",
       "    }\n",
       "\n",
       "    .dataframe thead th {\n",
       "        text-align: right;\n",
       "    }\n",
       "</style>\n",
       "<table border=\"1\" class=\"dataframe\">\n",
       "  <thead>\n",
       "    <tr style=\"text-align: right;\">\n",
       "      <th></th>\n",
       "      <th>endereco</th>\n",
       "      <th>ciclista</th>\n",
       "      <th>acidentes</th>\n",
       "      <th>%</th>\n",
       "      <th>acumulado</th>\n",
       "    </tr>\n",
       "  </thead>\n",
       "  <tbody>\n",
       "  </tbody>\n",
       "</table>\n",
       "</div>"
      ],
      "text/plain": [
       "Empty DataFrame\n",
       "Columns: [endereco, ciclista, acidentes, %, acumulado]\n",
       "Index: []"
      ]
     },
     "execution_count": 347,
     "metadata": {},
     "output_type": "execute_result"
    }
   ],
   "source": [
    "filtro=dfpareto['acumulado']==70.0\n",
    "dfpareto.loc[filtro]\n",
    "#dfpareto.iloc[87]"
   ]
  },
  {
   "cell_type": "code",
   "execution_count": 334,
   "metadata": {},
   "outputs": [
    {
     "data": {
      "text/html": [
       "<div>\n",
       "<style scoped>\n",
       "    .dataframe tbody tr th:only-of-type {\n",
       "        vertical-align: middle;\n",
       "    }\n",
       "\n",
       "    .dataframe tbody tr th {\n",
       "        vertical-align: top;\n",
       "    }\n",
       "\n",
       "    .dataframe thead th {\n",
       "        text-align: right;\n",
       "    }\n",
       "</style>\n",
       "<table border=\"1\" class=\"dataframe\">\n",
       "  <thead>\n",
       "    <tr style=\"text-align: right;\">\n",
       "      <th></th>\n",
       "      <th>endereco</th>\n",
       "      <th>ciclista</th>\n",
       "      <th>acidentes</th>\n",
       "      <th>%</th>\n",
       "      <th>acumulado</th>\n",
       "    </tr>\n",
       "  </thead>\n",
       "  <tbody>\n",
       "    <tr>\n",
       "      <th>0</th>\n",
       "      <td>AV CAXANGA</td>\n",
       "      <td>1.0</td>\n",
       "      <td>50</td>\n",
       "      <td>5.952381</td>\n",
       "      <td>5.952381</td>\n",
       "    </tr>\n",
       "    <tr>\n",
       "      <th>1</th>\n",
       "      <td>AV NORTE</td>\n",
       "      <td>1.0</td>\n",
       "      <td>48</td>\n",
       "      <td>5.714286</td>\n",
       "      <td>11.666667</td>\n",
       "    </tr>\n",
       "    <tr>\n",
       "      <th>2</th>\n",
       "      <td>AV RECIFE</td>\n",
       "      <td>1.0</td>\n",
       "      <td>24</td>\n",
       "      <td>2.857143</td>\n",
       "      <td>14.523810</td>\n",
       "    </tr>\n",
       "    <tr>\n",
       "      <th>3</th>\n",
       "      <td>AV MARECHAL MASCARENHAS DE MORAES</td>\n",
       "      <td>1.0</td>\n",
       "      <td>23</td>\n",
       "      <td>2.738095</td>\n",
       "      <td>17.261905</td>\n",
       "    </tr>\n",
       "    <tr>\n",
       "      <th>4</th>\n",
       "      <td>AV GOVERNADOR AGAMENON MAGALHAES</td>\n",
       "      <td>1.0</td>\n",
       "      <td>22</td>\n",
       "      <td>2.619048</td>\n",
       "      <td>19.880952</td>\n",
       "    </tr>\n",
       "    <tr>\n",
       "      <th>5</th>\n",
       "      <td>AV BEBERIBE</td>\n",
       "      <td>1.0</td>\n",
       "      <td>21</td>\n",
       "      <td>2.500000</td>\n",
       "      <td>22.380952</td>\n",
       "    </tr>\n",
       "    <tr>\n",
       "      <th>6</th>\n",
       "      <td>AV ENGENHEIRO ABDIAS DE CARVALHO</td>\n",
       "      <td>1.0</td>\n",
       "      <td>18</td>\n",
       "      <td>2.142857</td>\n",
       "      <td>24.523810</td>\n",
       "    </tr>\n",
       "    <tr>\n",
       "      <th>7</th>\n",
       "      <td>AV SUL</td>\n",
       "      <td>1.0</td>\n",
       "      <td>17</td>\n",
       "      <td>2.023810</td>\n",
       "      <td>26.547619</td>\n",
       "    </tr>\n",
       "    <tr>\n",
       "      <th>8</th>\n",
       "      <td>AV ENGENHEIRO DOMINGOS FERREIRA</td>\n",
       "      <td>1.0</td>\n",
       "      <td>16</td>\n",
       "      <td>1.904762</td>\n",
       "      <td>28.452381</td>\n",
       "    </tr>\n",
       "    <tr>\n",
       "      <th>9</th>\n",
       "      <td>AV CONDE DA BOA VISTA</td>\n",
       "      <td>1.0</td>\n",
       "      <td>14</td>\n",
       "      <td>1.666667</td>\n",
       "      <td>30.119048</td>\n",
       "    </tr>\n",
       "  </tbody>\n",
       "</table>\n",
       "</div>"
      ],
      "text/plain": [
       "                            endereco  ciclista  acidentes         %  acumulado\n",
       "0                         AV CAXANGA       1.0         50  5.952381   5.952381\n",
       "1                           AV NORTE       1.0         48  5.714286  11.666667\n",
       "2                          AV RECIFE       1.0         24  2.857143  14.523810\n",
       "3  AV MARECHAL MASCARENHAS DE MORAES       1.0         23  2.738095  17.261905\n",
       "4   AV GOVERNADOR AGAMENON MAGALHAES       1.0         22  2.619048  19.880952\n",
       "5                        AV BEBERIBE       1.0         21  2.500000  22.380952\n",
       "6   AV ENGENHEIRO ABDIAS DE CARVALHO       1.0         18  2.142857  24.523810\n",
       "7                             AV SUL       1.0         17  2.023810  26.547619\n",
       "8    AV ENGENHEIRO DOMINGOS FERREIRA       1.0         16  1.904762  28.452381\n",
       "9              AV CONDE DA BOA VISTA       1.0         14  1.666667  30.119048"
      ]
     },
     "execution_count": 334,
     "metadata": {},
     "output_type": "execute_result"
    }
   ],
   "source": [
    "dfpareto.iloc[:10]\n"
   ]
  },
  {
   "cell_type": "code",
   "execution_count": null,
   "metadata": {},
   "outputs": [],
   "source": []
  }
 ],
 "metadata": {
  "kernelspec": {
   "display_name": "Python 3",
   "language": "python",
   "name": "python3"
  },
  "language_info": {
   "codemirror_mode": {
    "name": "ipython",
    "version": 3
   },
   "file_extension": ".py",
   "mimetype": "text/x-python",
   "name": "python",
   "nbconvert_exporter": "python",
   "pygments_lexer": "ipython3",
   "version": "3.8.5"
  }
 },
 "nbformat": 4,
 "nbformat_minor": 4
}
